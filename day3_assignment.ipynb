{
 "cells": [
  {
   "cell_type": "code",
   "execution_count": 3,
   "metadata": {},
   "outputs": [
    {
     "name": "stdout",
     "output_type": "stream",
     "text": [
      "Subtraction is :  (1+1j)\n"
     ]
    }
   ],
   "source": [
    "#1.)Write a program to subtract two complex numbers in Python. \n",
    "def subtract_complex(c1, c2):\n",
    "    return c1-c2\n",
    "c1 = complex(2, 3)\n",
    "c2 = complex(1, 2)\n",
    "\n",
    "print( \"Subtraction is : \", subtract_complex(c1, c2))"
   ]
  },
  {
   "cell_type": "code",
   "execution_count": 4,
   "metadata": {},
   "outputs": [
    {
     "name": "stdout",
     "output_type": "stream",
     "text": [
      "1.681792830507429\n"
     ]
    }
   ],
   "source": [
    "#2.)Write a program to find the fourth root of a number. \n",
    "def f(num):\n",
    "    return num**0.25\n",
    "res = f(8)\n",
    "print(res)"
   ]
  },
  {
   "cell_type": "code",
   "execution_count": 5,
   "metadata": {},
   "outputs": [
    {
     "name": "stdout",
     "output_type": "stream",
     "text": [
      "Enter First Number: 2\n",
      "Enter Second Number: 5\n",
      "before swapping:  2\n",
      "before swapping:  5\n",
      "after swapping:  5\n",
      "after swapping:  2\n"
     ]
    }
   ],
   "source": [
    "#3.)Write a program to swap two numbers in Python with the help of a temporary variable.  \n",
    "num1 = input('Enter First Number: ')\n",
    "num2 = input('Enter Second Number: ')\n",
    "\n",
    "print(\"before swapping: \", num1)\n",
    "print(\"before swapping: \", num2)\n",
    "\n",
    "temp = num1\n",
    "num1 = num2\n",
    "num2 = temp\n",
    "\n",
    "print(\"after swapping: \", num1)\n",
    "print(\"after swapping: \", num2)"
   ]
  },
  {
   "cell_type": "code",
   "execution_count": 6,
   "metadata": {},
   "outputs": [
    {
     "name": "stdout",
     "output_type": "stream",
     "text": [
      "Value of x: 50\n",
      "Value of y: 10\n"
     ]
    }
   ],
   "source": [
    "#4.) Write a program to swap two numbers in Python without using a temporary variable.  \n",
    "   \n",
    "x = 10\n",
    "y = 50\n",
    "  \n",
    "x, y = y, x \n",
    "  \n",
    "print(\"Value of x:\", x) \n",
    "print(\"Value of y:\", y) "
   ]
  },
  {
   "cell_type": "code",
   "execution_count": 7,
   "metadata": {},
   "outputs": [
    {
     "name": "stdout",
     "output_type": "stream",
     "text": [
      "Temperature in Kelvin ( K ) = 311.278\n"
     ]
    }
   ],
   "source": [
    "#5.)Write a program to convert Fahrenheit to kelvin and celsius both.  \n",
    "def Fahrenheit_to_Kelvin(F): \n",
    "    return 273.5 + ((F - 32.0) * (5.0/9.0)) \n",
    "  \n",
    "# Driver function \n",
    "F = 100\n",
    "print(\"Temperature in Kelvin ( K ) = {:.3f}\" \n",
    "            .format(Fahrenheit_to_Kelvin( F )))"
   ]
  },
  {
   "cell_type": "code",
   "execution_count": 8,
   "metadata": {},
   "outputs": [
    {
     "name": "stdout",
     "output_type": "stream",
     "text": [
      "Enter Fahrenheit\n",
      "34.99\n",
      "Celsius: 1.6611111111111123\n"
     ]
    }
   ],
   "source": [
    "print(\"Enter Fahrenheit\")\n",
    "#get the fahrenheit\n",
    "fahrenheit = float(input())\n",
    "#convert fahrenheit to celsius\n",
    "celsius = (fahrenheit - 32)*5/9\n",
    "print (\"Celsius:\", celsius)"
   ]
  },
  {
   "cell_type": "code",
   "execution_count": 10,
   "metadata": {},
   "outputs": [
    {
     "name": "stdout",
     "output_type": "stream",
     "text": [
      "Type of a:  <class 'int'>\n",
      "\n",
      "Type of b:  <class 'float'>\n",
      "\n",
      "Type of c:  <class 'complex'>\n",
      "\n",
      "Type of d:  <class 'list'>\n",
      "\n",
      "Type of e:  <class 'tuple'>\n",
      "\n",
      "Type of f:  <class 'dict'>\n",
      "\n",
      "Type of g:  <class 'set'>\n"
     ]
    }
   ],
   "source": [
    "#6)Write a program to demonstrate all the available data types in Python. Hint: Use type() function.  \n",
    "a = 5\n",
    "print(\"Type of a: \", type(a)) \n",
    "  \n",
    "b = 5.0\n",
    "print(\"\\nType of b: \", type(b)) \n",
    "  \n",
    "c = 2 + 4j\n",
    "print(\"\\nType of c: \", type(c)) \n",
    "\n",
    "d = [2,5, 7.8, \"sammy\"]\n",
    "print(\"\\nType of d: \", type(d))\n",
    "\n",
    "e = (2,6, 7)\n",
    "print(\"\\nType of e: \", type(e))\n",
    "\n",
    "f = {'name': 'sam', 'age': 26}\n",
    "print(\"\\nType of f: \", type(f))\n",
    "\n",
    "g = {2,5,7,4,8,8}\n",
    "print(\"\\nType of g: \", type(g))"
   ]
  },
  {
   "cell_type": "code",
   "execution_count": null,
   "metadata": {},
   "outputs": [],
   "source": []
  }
 ],
 "metadata": {
  "kernelspec": {
   "display_name": "Python 3",
   "language": "python",
   "name": "python3"
  },
  "language_info": {
   "codemirror_mode": {
    "name": "ipython",
    "version": 3
   },
   "file_extension": ".py",
   "mimetype": "text/x-python",
   "name": "python",
   "nbconvert_exporter": "python",
   "pygments_lexer": "ipython3",
   "version": "3.8.3"
  }
 },
 "nbformat": 4,
 "nbformat_minor": 4
}
