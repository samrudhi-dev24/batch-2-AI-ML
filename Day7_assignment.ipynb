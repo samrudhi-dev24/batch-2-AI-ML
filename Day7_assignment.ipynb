{
 "cells": [
  {
   "cell_type": "code",
   "execution_count": 1,
   "metadata": {},
   "outputs": [],
   "source": [
    "#Question 1:\n",
    "#Write a program to copy the contents of one file to another using a for loop. (Don’t use built-in copy function)"
   ]
  },
  {
   "cell_type": "code",
   "execution_count": 2,
   "metadata": {},
   "outputs": [],
   "source": [
    "with open(\"test.txt\") as f:\n",
    "    with open(\"out.txt\", \"w\") as f1:\n",
    "        for line in f:\n",
    "            f1.write(line)"
   ]
  },
  {
   "cell_type": "code",
   "execution_count": 3,
   "metadata": {},
   "outputs": [
    {
     "data": {
      "text/plain": [
       "<_io.TextIOWrapper name='out.txt' mode='w' encoding='cp1252'>"
      ]
     },
     "execution_count": 3,
     "metadata": {},
     "output_type": "execute_result"
    }
   ],
   "source": [
    "f1"
   ]
  },
  {
   "cell_type": "code",
   "execution_count": 4,
   "metadata": {},
   "outputs": [],
   "source": [
    "#Question 2:\n",
    "# Write a Python program to find maximum and minimum values in the dictionary.\n",
    "# Do not use built-in min and max functions."
   ]
  },
  {
   "cell_type": "code",
   "execution_count": 1,
   "metadata": {},
   "outputs": [
    {
     "name": "stdout",
     "output_type": "stream",
     "text": [
      "('d', 'a')\n"
     ]
    }
   ],
   "source": [
    "def get_max_val_key(data):\n",
    "\n",
    "    max_value = None\n",
    "    min_value = None\n",
    "    for key in data:\n",
    "        if max_value is None or max_value < data[key]:\n",
    "            max_value = data[key]\n",
    "            max_key = key\n",
    "\n",
    "        if  min_value is None or min_value > data[key]:\n",
    "            min_value = data[key]\n",
    "            min_key = key\n",
    "    return max_key, min_key\n",
    "\n",
    "\n",
    "data = {'a': 11, 'b': 12, 'c': 34, 'd': 67}\n",
    "\n",
    "print(get_max_val_key(data))\n"
   ]
  },
  {
   "cell_type": "code",
   "execution_count": null,
   "metadata": {},
   "outputs": [],
   "source": []
  }
 ],
 "metadata": {
  "kernelspec": {
   "display_name": "Python 3",
   "language": "python",
   "name": "python3"
  },
  "language_info": {
   "codemirror_mode": {
    "name": "ipython",
    "version": 3
   },
   "file_extension": ".py",
   "mimetype": "text/x-python",
   "name": "python",
   "nbconvert_exporter": "python",
   "pygments_lexer": "ipython3",
   "version": "3.8.3"
  }
 },
 "nbformat": 4,
 "nbformat_minor": 4
}
