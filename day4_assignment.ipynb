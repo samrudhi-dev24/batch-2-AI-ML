{
 "cells": [
  {
   "cell_type": "code",
   "execution_count": 2,
   "metadata": {},
   "outputs": [],
   "source": [
    "#Question 1 :\n",
    "\n",
    "#Research on whether addition, subtraction, multiplication, division, floor division,\n",
    "#and modulo operations be performed on complex numbers. \n",
    "#Based on your study, implement a Python program to demonstrate these operations."
   ]
  },
  {
   "cell_type": "markdown",
   "metadata": {},
   "source": [
    "-A Complex number consists of real and imaginary component.\n",
    "-It is represented as x+yj. Both x and y are real numbers.\n",
    "-Y multiplied by imaginary unit forms an imaginary part of complex number.\n",
    "-Python has a built-in complex data type. \n",
    "-complex() function can be used to calculate and does operation of complex numbers."
   ]
  },
  {
   "cell_type": "code",
   "execution_count": 4,
   "metadata": {},
   "outputs": [
    {
     "name": "stdout",
     "output_type": "stream",
     "text": [
      "Enter two complex numbers:\n"
     ]
    },
    {
     "name": "stdin",
     "output_type": "stream",
     "text": [
      " 2+3j\n",
      " 1+3j\n"
     ]
    },
    {
     "name": "stdout",
     "output_type": "stream",
     "text": [
      "Addition of complex numbers are = (3+6j)\n"
     ]
    }
   ],
   "source": [
    "#adding two complex numbers\n",
    "print(\"Enter two complex numbers:\")\n",
    "n1 = complex(input())\n",
    "n2 = complex(input())\n",
    "print(\"Addition of complex numbers are =\", n1 + n2)"
   ]
  },
  {
   "cell_type": "code",
   "execution_count": 6,
   "metadata": {},
   "outputs": [
    {
     "name": "stdout",
     "output_type": "stream",
     "text": [
      "Enter two complex numbers:\n"
     ]
    },
    {
     "name": "stdin",
     "output_type": "stream",
     "text": [
      " 2+3j\n",
      " 1+2j\n"
     ]
    },
    {
     "name": "stdout",
     "output_type": "stream",
     "text": [
      "substraction of complex numbers are = (1+1j)\n"
     ]
    }
   ],
   "source": [
    "#subtracting complex number\n",
    "print(\"Enter two complex numbers:\")\n",
    "n1 = complex(input())\n",
    "n2 = complex(input())\n",
    "print(\"substraction of complex numbers are =\", n1 - n2)"
   ]
  },
  {
   "cell_type": "code",
   "execution_count": 7,
   "metadata": {},
   "outputs": [
    {
     "name": "stdout",
     "output_type": "stream",
     "text": [
      "division of complex numbers are (1.2307692307692308+0.15384615384615383j)\n"
     ]
    }
   ],
   "source": [
    "#division of complex numbers\n",
    "#another way\n",
    "d1 = complex(2, 3)\n",
    "d2 = complex(2, 4)\n",
    "d3 = d2 / d1\n",
    "print(\"division of complex numbers are\", d3)\n"
   ]
  },
  {
   "cell_type": "code",
   "execution_count": 9,
   "metadata": {},
   "outputs": [
    {
     "name": "stdout",
     "output_type": "stream",
     "text": [
      "multiplication is (-6+8j)\n"
     ]
    }
   ],
   "source": [
    "#multiplication of complex numbers\n",
    "m1 = 1 + 2j\n",
    "m2 = 2 + 4j\n",
    "print(\"multiplication is\", m1*m2)"
   ]
  },
  {
   "cell_type": "code",
   "execution_count": 10,
   "metadata": {},
   "outputs": [],
   "source": [
    "import math"
   ]
  },
  {
   "cell_type": "code",
   "execution_count": 11,
   "metadata": {},
   "outputs": [
    {
     "name": "stdin",
     "output_type": "stream",
     "text": [
      "Enter complex number of form a+bj:  2+2j\n"
     ]
    },
    {
     "name": "stdout",
     "output_type": "stream",
     "text": [
      "The modulus of  (2+2j)  is 2.8284271247461903\n"
     ]
    }
   ],
   "source": [
    "#modulo of complex numbers\n",
    "x=complex(input(\"Enter complex number of form a+bj: \"))\n",
    "print(\"The modulus of \",x,\" is\", abs(x)) #using abs() function of math to get the absolute value "
   ]
  },
  {
   "cell_type": "code",
   "execution_count": 14,
   "metadata": {},
   "outputs": [
    {
     "ename": "TypeError",
     "evalue": "can't take floor of complex number.",
     "output_type": "error",
     "traceback": [
      "\u001b[1;31m---------------------------------------------------------------------------\u001b[0m",
      "\u001b[1;31mTypeError\u001b[0m                                 Traceback (most recent call last)",
      "\u001b[1;32m<ipython-input-14-2cda45897c64>\u001b[0m in \u001b[0;36m<module>\u001b[1;34m\u001b[0m\n\u001b[0;32m      2\u001b[0m \u001b[0mf1\u001b[0m \u001b[1;33m=\u001b[0m \u001b[1;36m1\u001b[0m \u001b[1;33m+\u001b[0m \u001b[1;36m2j\u001b[0m\u001b[1;33m\u001b[0m\u001b[1;33m\u001b[0m\u001b[0m\n\u001b[0;32m      3\u001b[0m \u001b[0mf2\u001b[0m \u001b[1;33m=\u001b[0m \u001b[1;36m2\u001b[0m \u001b[1;33m+\u001b[0m \u001b[1;36m4j\u001b[0m\u001b[1;33m\u001b[0m\u001b[1;33m\u001b[0m\u001b[0m\n\u001b[1;32m----> 4\u001b[1;33m \u001b[0mprint\u001b[0m\u001b[1;33m(\u001b[0m\u001b[1;34m\"Floor division is\"\u001b[0m\u001b[1;33m,\u001b[0m \u001b[0mf1\u001b[0m\u001b[1;33m//\u001b[0m\u001b[0mf2\u001b[0m\u001b[1;33m)\u001b[0m\u001b[1;33m\u001b[0m\u001b[1;33m\u001b[0m\u001b[0m\n\u001b[0m",
      "\u001b[1;31mTypeError\u001b[0m: can't take floor of complex number."
     ]
    }
   ],
   "source": [
    "#floor division\n",
    "f1 = 1 + 2j\n",
    "f2 = 2 + 4j\n",
    "print(\"Floor division is\", f1//f2)"
   ]
  },
  {
   "cell_type": "markdown",
   "metadata": {},
   "source": [
    "In python, you cannot get the floor division of the complex numbers."
   ]
  },
  {
   "cell_type": "code",
   "execution_count": 17,
   "metadata": {},
   "outputs": [],
   "source": [
    "#Question 2 :\n",
    "\n",
    "#Research on range() functions and its parameters. Create a markdown cell and \n",
    "#write in your own words (no copy-paste from google please)what you understand about it. \n",
    "#Implement a small program of your choice on the same."
   ]
  },
  {
   "cell_type": "markdown",
   "metadata": {},
   "source": [
    "The range() function generates integer number between the start and stop of the numbers. And also step for incrementing or decremeting.\n",
    "it returns a range object.\n",
    "The number sequence that is in between start and stop displays the series of numbers given in the range().\n",
    "We can also iterate over the for loop using range().\n"
   ]
  },
  {
   "cell_type": "code",
   "execution_count": 19,
   "metadata": {},
   "outputs": [
    {
     "name": "stdout",
     "output_type": "stream",
     "text": [
      "\n",
      "1 \n",
      "2 2 \n",
      "3 3 3 \n",
      "4 4 4 4 \n",
      "5 5 5 5 5 \n"
     ]
    }
   ],
   "source": [
    "for num in range(6): # here its start = 0, stop = 5, step = 1\n",
    "    for i in range(num):\n",
    "        print(num, end=\" \")\n",
    "    print()"
   ]
  },
  {
   "cell_type": "code",
   "execution_count": 20,
   "metadata": {},
   "outputs": [],
   "source": [
    "#Question 3: \n",
    "\n",
    "#Consider two numbers. Perform their subtraction and if the result of subtraction is greater than 25,\n",
    "#print their multiplication result else print their division result."
   ]
  },
  {
   "cell_type": "code",
   "execution_count": 38,
   "metadata": {},
   "outputs": [
    {
     "name": "stdin",
     "output_type": "stream",
     "text": [
      "enter number 1:  34\n",
      "enter number 2:  67\n"
     ]
    },
    {
     "name": "stdout",
     "output_type": "stream",
     "text": [
      "substraction is 33\n",
      "33 x 1 = 33\n",
      "33 x 2 = 66\n",
      "33 x 3 = 99\n",
      "33 x 4 = 132\n",
      "33 x 5 = 165\n",
      "33 x 6 = 198\n",
      "33 x 7 = 231\n",
      "33 x 8 = 264\n",
      "33 x 9 = 297\n",
      "33 x 10 = 330\n"
     ]
    }
   ],
   "source": [
    "num1 = int(input(\"enter number 1: \"))\n",
    "num2 = int(input(\"enter number 2: \"))\n",
    "res = num2 - num1\n",
    "print(\"substraction is\", res)\n",
    "\n",
    "if res < 25:\n",
    "    print(\"division is\", res / 100)\n",
    "else:  \n",
    "    if res > 25:\n",
    "        for i in range(1, 11):\n",
    "            print(res,'x',i,'=',res*i)\n",
    "    "
   ]
  },
  {
   "cell_type": "code",
   "execution_count": 39,
   "metadata": {},
   "outputs": [],
   "source": [
    "#Question 4: \n",
    "    \n",
    "#Consider a list of 10 elements of integer values. \n",
    "#If the number in the list is divisible by 2, print the result as \"square of that number minus 2\"."
   ]
  },
  {
   "cell_type": "code",
   "execution_count": 51,
   "metadata": {},
   "outputs": [
    {
     "name": "stdout",
     "output_type": "stream",
     "text": [
      "square of that number minus 2 : [4, 6, 8, 2, 10, 0]\n"
     ]
    }
   ],
   "source": [
    "li = [1, 4, 6, 8, 2, 10, 9, 0, 5, 7]\n",
    "div_li= []\n",
    "for num in li:\n",
    "    if  num % 2 == 0:\n",
    "        div_li.append(num)\n",
    "print(\"square of that number minus 2 :\", div_li)\n",
    "        \n",
    "        "
   ]
  },
  {
   "cell_type": "code",
   "execution_count": 50,
   "metadata": {},
   "outputs": [],
   "source": [
    "#Question 5:\n",
    "\n",
    "#Consider a list of 10 elements.\n",
    "#Print all the elements in the list which are greater than 7 when that number is divided"
   ]
  },
  {
   "cell_type": "code",
   "execution_count": 1,
   "metadata": {},
   "outputs": [
    {
     "name": "stdout",
     "output_type": "stream",
     "text": [
      "The elements that are greater than 7 when divided are 33.0\n",
      "The elements that are greater than 7 when divided are 10.5\n",
      "The elements that are greater than 7 when divided are 20.5\n",
      "The elements that are greater than 7 when divided are 43.5\n"
     ]
    }
   ],
   "source": [
    "lis1 = [66, 21, 12, 13, 41, 87, 7, 8, 9, 3]\n",
    "quotients = []\n",
    "\n",
    "for number in lis1:\n",
    "    quotients.append(number / 2) \n",
    "    \n",
    "for i in quotients:\n",
    "    if i > 7:\n",
    "        print(\"The elements that are greater than 7 when divided are\", i)    \n"
   ]
  },
  {
   "cell_type": "code",
   "execution_count": null,
   "metadata": {},
   "outputs": [],
   "source": []
  }
 ],
 "metadata": {
  "kernelspec": {
   "display_name": "Python 3",
   "language": "python",
   "name": "python3"
  },
  "language_info": {
   "codemirror_mode": {
    "name": "ipython",
    "version": 3
   },
   "file_extension": ".py",
   "mimetype": "text/x-python",
   "name": "python",
   "nbconvert_exporter": "python",
   "pygments_lexer": "ipython3",
   "version": "3.8.3"
  }
 },
 "nbformat": 4,
 "nbformat_minor": 4
}
