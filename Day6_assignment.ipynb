{
 "cells": [
  {
   "cell_type": "code",
   "execution_count": 1,
   "metadata": {},
   "outputs": [],
   "source": [
    "#Question 1 : Assuming that we have some email addresses in the \"username@companyname.com\" format,\n",
    "#please write a program to print the company name of a given email address.\n",
    "#Both user names and company names are composed of letters only.\n",
    "\n",
    "#Input Format: The first line of the input contains an email address. \n",
    "#Output Format: Print the company name in a single line. \n",
    "    \n",
    "#Example; Input: john@google.com Output: google."
   ]
  },
  {
   "cell_type": "code",
   "execution_count": 3,
   "metadata": {},
   "outputs": [
    {
     "name": "stdout",
     "output_type": "stream",
     "text": [
      "['google']\n"
     ]
    }
   ],
   "source": [
    "import re\n",
    "\n",
    "email = \"samrudhi@google.com\"\n",
    "pattern = \"\\w+@(\\w+).com\"\n",
    "ans = re.findall(pattern,email)\n",
    "print(ans)"
   ]
  },
  {
   "cell_type": "code",
   "execution_count": 4,
   "metadata": {},
   "outputs": [],
   "source": [
    "#Question 2 : Write a program that accepts a comma-separated sequence of words as input and \n",
    "#prints the words in a comma-separated sequence after sorting them alphabetically.\n",
    "\n",
    "#Input Format: The first line of input contains words separated by the comma. \n",
    "#Output Format: Print the sorted words separated by the comma.\n",
    "    \n",
    "#Example: Input: without,hello,bag,world Output: bag,hello,without,world"
   ]
  },
  {
   "cell_type": "code",
   "execution_count": 5,
   "metadata": {},
   "outputs": [
    {
     "name": "stdout",
     "output_type": "stream",
     "text": [
      "enter data to sortbag,hello,why,this,one\n",
      "Sorted data are  bag hello one this why\n"
     ]
    }
   ],
   "source": [
    "items=[x for x in input(\"enter data to sort\").split(',')]\n",
    "items.sort()\n",
    "print (\"Sorted data are \",' '.join(items))\n"
   ]
  },
  {
   "cell_type": "code",
   "execution_count": 7,
   "metadata": {},
   "outputs": [],
   "source": [
    "#Question 4: Given a list of n-1 numbers ranging from 1 to n, your task is to find the missing number. There are no duplicates.\n",
    "#Input Format: The first line contains n-1 numbers with each number separated by a space.\n",
    "#Output Format: Print the missing number Example: Input: 1 2 4 6 3 7 8\n",
    "#Output: 5Explanation: In the above list of numbers 5 is missing and hence 5 is the input"
   ]
  },
  {
   "cell_type": "code",
   "execution_count": 8,
   "metadata": {},
   "outputs": [
    {
     "name": "stdout",
     "output_type": "stream",
     "text": [
      "5\n",
      "13\n"
     ]
    }
   ],
   "source": [
    "def missing_number(num_list):\n",
    "    return sum(range(num_list[0],num_list[-1]+1)) - sum(num_list)\n",
    "\n",
    "print(missing_number([1,2,3,4,6,7,8]))\n",
    "\n",
    "print(missing_number([10,11,12,14,15,16,17]))"
   ]
  },
  {
   "cell_type": "code",
   "execution_count": 9,
   "metadata": {},
   "outputs": [],
   "source": [
    "#Question 5: With a given list L, write a program to print this list L after removing all duplicate values with original order reserved.\n",
    "#Example: If the input list is 12 24 35 24 88 120 155 88 120 155 \n",
    "#Then the output should be 12 24 35 88 120 155"
   ]
  },
  {
   "cell_type": "code",
   "execution_count": 11,
   "metadata": {},
   "outputs": [
    {
     "name": "stdout",
     "output_type": "stream",
     "text": [
      "[2, 4, 5, 10, 20]\n"
     ]
    }
   ],
   "source": [
    "duplicate = [2, 4, 10, 20, 5, 2, 20, 4] \n",
    "print(list(set(duplicate))) "
   ]
  },
  {
   "cell_type": "code",
   "execution_count": 12,
   "metadata": {},
   "outputs": [],
   "source": [
    "#Question 3: Create your own Jupyter Notebook for Sets."
   ]
  },
  {
   "cell_type": "code",
   "execution_count": 13,
   "metadata": {},
   "outputs": [
    {
     "name": "stdout",
     "output_type": "stream",
     "text": [
      "<class 'set'>\n"
     ]
    }
   ],
   "source": [
    "set_of_things = {'name', 'sammy', 'cestudent'}\n",
    "print(type(set_of_things))"
   ]
  },
  {
   "cell_type": "markdown",
   "metadata": {},
   "source": [
    "For accessing items"
   ]
  },
  {
   "cell_type": "code",
   "execution_count": 14,
   "metadata": {},
   "outputs": [
    {
     "name": "stdout",
     "output_type": "stream",
     "text": [
      "name\n",
      "sammy\n",
      "cestudent\n"
     ]
    }
   ],
   "source": [
    "set_of_things = {'name', 'sammy', 'cestudent'}\n",
    "for x in set_of_things:\n",
    "  print(x)"
   ]
  },
  {
   "cell_type": "code",
   "execution_count": 15,
   "metadata": {},
   "outputs": [
    {
     "name": "stdout",
     "output_type": "stream",
     "text": [
      "True\n"
     ]
    }
   ],
   "source": [
    "print(\"sammy\" in set_of_things) #prints if sammy is in the set and returns true if found."
   ]
  },
  {
   "cell_type": "markdown",
   "metadata": {},
   "source": [
    "Add Items"
   ]
  },
  {
   "cell_type": "code",
   "execution_count": 16,
   "metadata": {},
   "outputs": [
    {
     "name": "stdout",
     "output_type": "stream",
     "text": [
      "{'name', 'sammy', 'cestudent', 'loves_food'}\n"
     ]
    }
   ],
   "source": [
    "set_of_things = {'name', 'sammy', 'cestudent'}\n",
    "set_of_things.add(\"loves_food\")\n",
    "\n",
    "print(set_of_things)"
   ]
  },
  {
   "cell_type": "code",
   "execution_count": 17,
   "metadata": {},
   "outputs": [
    {
     "name": "stdout",
     "output_type": "stream",
     "text": [
      "{'sammy', 'cestudent', 'orange', 'grapes', 'name', 'mango'}\n"
     ]
    }
   ],
   "source": [
    "set_of_things = {'name', 'sammy', 'cestudent'}\n",
    "set_of_things.update([\"orange\", \"mango\", \"grapes\"])\n",
    "\n",
    "print(set_of_things)\n"
   ]
  },
  {
   "cell_type": "markdown",
   "metadata": {},
   "source": [
    "Get the Length of a Set"
   ]
  },
  {
   "cell_type": "code",
   "execution_count": 18,
   "metadata": {},
   "outputs": [
    {
     "name": "stdout",
     "output_type": "stream",
     "text": [
      "6\n"
     ]
    }
   ],
   "source": [
    "print(len(set_of_things))"
   ]
  },
  {
   "cell_type": "markdown",
   "metadata": {},
   "source": [
    "Remove Item"
   ]
  },
  {
   "cell_type": "code",
   "execution_count": 19,
   "metadata": {},
   "outputs": [
    {
     "name": "stdout",
     "output_type": "stream",
     "text": [
      "{'sammy', 'grapes', 'cestudent', 'orange', 'name'}\n"
     ]
    }
   ],
   "source": [
    "set_of_things = {'sammy', 'cestudent', 'orange', 'grapes', 'name', 'mango'}\n",
    "set_of_things.remove(\"mango\")\n",
    "\n",
    "print(set_of_things)"
   ]
  },
  {
   "cell_type": "code",
   "execution_count": 20,
   "metadata": {},
   "outputs": [
    {
     "name": "stdout",
     "output_type": "stream",
     "text": [
      "sammy\n",
      "{'grapes', 'cestudent', 'orange', 'name', 'mango'}\n"
     ]
    }
   ],
   "source": [
    "set_of_things = {'sammy', 'cestudent', 'orange', 'grapes', 'name', 'mango'}\n",
    "x = set_of_things.pop()\n",
    "\n",
    "print(x)\n",
    "\n",
    "print(set_of_things)\n"
   ]
  },
  {
   "cell_type": "markdown",
   "metadata": {},
   "source": [
    "Join Two Sets"
   ]
  },
  {
   "cell_type": "code",
   "execution_count": 21,
   "metadata": {},
   "outputs": [
    {
     "name": "stdout",
     "output_type": "stream",
     "text": [
      "{1, 2, 'a', 3, 'b', 'c'}\n"
     ]
    }
   ],
   "source": [
    "set1 = {\"a\", \"b\" , \"c\"}\n",
    "set2 = {1, 2, 3}\n",
    "\n",
    "set3 = set1.union(set2)\n",
    "print(set3)\n"
   ]
  },
  {
   "cell_type": "code",
   "execution_count": 22,
   "metadata": {},
   "outputs": [
    {
     "name": "stdout",
     "output_type": "stream",
     "text": [
      "{1, 2, 'a', 3, 'b', 'c'}\n"
     ]
    }
   ],
   "source": [
    "set1 = {\"a\", \"b\" , \"c\"}\n",
    "set2 = {1, 2, 3}\n",
    "set1.update(set2)\n",
    "print(set1)\n"
   ]
  },
  {
   "cell_type": "markdown",
   "metadata": {},
   "source": [
    "The set() Constructor\n",
    "It is also possible to use the set() constructor to make a set."
   ]
  },
  {
   "cell_type": "code",
   "execution_count": 23,
   "metadata": {},
   "outputs": [
    {
     "name": "stdout",
     "output_type": "stream",
     "text": [
      "{'apple', 'banana', 'cherry'}\n"
     ]
    }
   ],
   "source": [
    "thisset = set((\"apple\", \"banana\", \"cherry\")) # note the double round-brackets\n",
    "print(thisset)"
   ]
  },
  {
   "cell_type": "code",
   "execution_count": null,
   "metadata": {},
   "outputs": [],
   "source": []
  }
 ],
 "metadata": {
  "kernelspec": {
   "display_name": "Python 3",
   "language": "python",
   "name": "python3"
  },
  "language_info": {
   "codemirror_mode": {
    "name": "ipython",
    "version": 3
   },
   "file_extension": ".py",
   "mimetype": "text/x-python",
   "name": "python",
   "nbconvert_exporter": "python",
   "pygments_lexer": "ipython3",
   "version": "3.8.3"
  }
 },
 "nbformat": 4,
 "nbformat_minor": 4
}
